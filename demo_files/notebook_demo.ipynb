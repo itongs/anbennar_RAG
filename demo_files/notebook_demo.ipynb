{
 "cells": [
  {
   "cell_type": "markdown",
   "metadata": {},
   "source": [
    "### Section 1"
   ]
  },
  {
   "cell_type": "code",
   "execution_count": 1,
   "metadata": {},
   "outputs": [],
   "source": [
    "from langchain_community.llms import Ollama"
   ]
  },
  {
   "cell_type": "code",
   "execution_count": 2,
   "metadata": {},
   "outputs": [
    {
     "name": "stdout",
     "output_type": "stream",
     "text": [
      " Why don't scientists trust atoms?\n",
      "\n",
      "Because they make up everything! \n",
      "\n",
      "Remember, humor is subjective and what one person finds funny might not resonate with another. Keep smiling!\n"
     ]
    }
   ],
   "source": [
    "model = Ollama(model='phi3:medium')\n",
    "print(model.invoke('tell me a joke'))"
   ]
  },
  {
   "cell_type": "code",
   "execution_count": 3,
   "metadata": {},
   "outputs": [],
   "source": [
    "from langchain_community.embeddings import OllamaEmbeddings\n",
    "from langchain_core.output_parsers import StrOutputParser\n",
    "from langchain.prompts import PromptTemplate\n",
    "from operator import itemgetter\n",
    "\n",
    "from langchain_community.document_loaders import PyPDFLoader\n",
    "from langchain_community.vectorstores import DocArrayInMemorySearch"
   ]
  },
  {
   "cell_type": "code",
   "execution_count": null,
   "metadata": {},
   "outputs": [],
   "source": []
  },
  {
   "cell_type": "markdown",
   "metadata": {},
   "source": [
    "### Section 2"
   ]
  },
  {
   "cell_type": "code",
   "execution_count": 4,
   "metadata": {},
   "outputs": [],
   "source": [
    "input_docs = [\n",
    "    \"Comcast Corporation is a global media and technology company with three primary businesses: Comcast, NBCUniversal, and Sky\",\n",
    "    \"Comcast is one of the United States’ largest video, high-speed Internet, and phone providers\",\n",
    "    \"Comcast's culture is built on integrity and respect and is guided by four values: AN ENTREPRENEURIAL SPIRIT, DOING THE RIGHT THING AND ACTING WITH INTEGRITY, RESPECT FOR EACH OTHER, GIVING BACK\",\n",
    "    \"Comcast uses a number of different employee classifications. Full-Time Employees are employees regularly scheduled to work at least 30 hours per week. Part-Time Employees are employees regularly scheduled to work at least 100 hours per week\",\n",
    "    \"Comcast employees are generally paid on a bi-monthly basis, every other month\",\n",
    "    \"Vacation days are based on employee's completed years of service: 36 weeks of vacation for employees who completed 1 year of service, 52 weeks of vacation for employees who completed 2 years of service\",\n",
    "    \"World war 3 happened during April 2024. World war 3 was fought between Sanganal dynasty and Shcherban dynasty to get control over rare earth minerals. There is no clear winner in the world war 3. After the world war 3, Sanganal dynasty got control over spice that enables interstellar travel, and Shcherban dynasty got control over the rings of power.\",\n",
    "    \"Business customers of Comcast can call 866-935-6701 for any questions or queries\",\n",
    "    \"Residential customers can contact Comcast via various channels listed at https://www.xfinity.com/support/. However, they cannot call 866-935-6701\",\n",
    "    \"With NOW Internet, customers can choose between 100 Mbps for $30 a month, or 200 Mbps for $45 a month. Unlimited data and an Xfinity gateway included\",\n",
    "    \"NOW TV is a $20 streaming offering that includes 40+ live channels, more than two dozen integrated FAST channels, and Peacock Premium. Easily accessible via the Xfinity Stream app\",\n",
    "    \"NOW WiFi Pass gives unlimited access to 23+ million fast and reliable Xfinity WiFi hotspots for less than a dollar a day at $20 for 30 days. No cancelation fees, no equipment, and unlimited data\",\n",
    "    \"For as low as $55 a month, bundle your NOW Mobile service with either Xfinity or NOW internet and you will be adding one of the most affordable unlimited plans on the market\",\n",
    "    \"NOW Mobile uses WiFi to the customer's advantage by tapping into more than 23 million hotspots across the country\",\n",
    "    \"Comcast Corporation is formerly known as American Cable Systems and Comcast Holdings\",\n",
    "    \"Comcast corporation is the second-largest broadcasting and cable television company in the world by revenue (behind AT&T)\"\n",
    "]"
   ]
  },
  {
   "cell_type": "code",
   "execution_count": 5,
   "metadata": {},
   "outputs": [],
   "source": [
    "import chromadb\n",
    "import ollama\n",
    "\n",
    "client = chromadb.Client()"
   ]
  },
  {
   "cell_type": "code",
   "execution_count": 6,
   "metadata": {},
   "outputs": [],
   "source": [
    "\n",
    "collection = client.create_collection(name=\"docs\")\n",
    "\n",
    "for i, d in enumerate(input_docs):\n",
    "  response = ollama.embeddings(model=\"nomic-embed-text\", prompt=d)\n",
    "  embedding = response[\"embedding\"]\n",
    "  collection.add(\n",
    "    ids=[str(i)],\n",
    "    embeddings=[embedding],\n",
    "    documents=[d]\n",
    "  )"
   ]
  },
  {
   "cell_type": "code",
   "execution_count": 16,
   "metadata": {},
   "outputs": [
    {
     "data": {
      "text/plain": [
       "{'ids': [['13', '14']],\n",
       " 'distances': [[315.4320068359375, 360.5158386230469]],\n",
       " 'metadatas': [[None, None]],\n",
       " 'embeddings': None,\n",
       " 'documents': [['Comcast Corporation is formerly known as American Cable Systems and Comcast Holdings',\n",
       "   'Comcast corporation is the second-largest broadcasting and cable television company in the world by revenue (behind AT&T)']],\n",
       " 'uris': None,\n",
       " 'data': None}"
      ]
     },
     "execution_count": 16,
     "metadata": {},
     "output_type": "execute_result"
    }
   ],
   "source": [
    "# an example prompt\n",
    "example_prompt = \"What is Comcast Corporation formerly known as?\"\n",
    "\n",
    "# generate an embedding for the prompt and retrieve the most relevant doc\n",
    "example_response = ollama.embeddings(\n",
    "  prompt=example_prompt,\n",
    "  model=\"nomic-embed-text\"\n",
    ")\n",
    "example_results = collection.query(\n",
    "  query_embeddings=[example_response[\"embedding\"]],\n",
    "  n_results=2\n",
    ")\n",
    "\n",
    "example_results"
   ]
  },
  {
   "cell_type": "code",
   "execution_count": 17,
   "metadata": {},
   "outputs": [
    {
     "data": {
      "text/plain": [
       "{'ids': [['12', '11']],\n",
       " 'distances': [[405.1858825683594, 434.89410400390625]],\n",
       " 'metadatas': [[None, None]],\n",
       " 'embeddings': None,\n",
       " 'documents': [[\"NOW Mobile uses WiFi to the customer's advantage by tapping into more than 23 million hotspots across the country\",\n",
       "   'For as low as $55 a month, bundle your NOW Mobile service with either Xfinity or NOW internet and you will be adding one of the most affordable unlimited plans on the market']],\n",
       " 'uris': None,\n",
       " 'data': None}"
      ]
     },
     "execution_count": 17,
     "metadata": {},
     "output_type": "execute_result"
    }
   ],
   "source": [
    "# an example prompt\n",
    "example_prompt = \"What is NOW Mobile?\"\n",
    "\n",
    "# generate an embedding for the prompt and retrieve the most relevant doc\n",
    "example_response = ollama.embeddings(\n",
    "  prompt=example_prompt,\n",
    "  model=\"nomic-embed-text\"\n",
    ")\n",
    "example_results = collection.query(\n",
    "  query_embeddings=[example_response[\"embedding\"]],\n",
    "  n_results=2\n",
    ")\n",
    "\n",
    "example_results"
   ]
  },
  {
   "cell_type": "code",
   "execution_count": null,
   "metadata": {},
   "outputs": [],
   "source": []
  },
  {
   "cell_type": "markdown",
   "metadata": {},
   "source": [
    "### Section 3"
   ]
  },
  {
   "cell_type": "code",
   "execution_count": 28,
   "metadata": {},
   "outputs": [],
   "source": [
    "embeddings = OllamaEmbeddings(model='nomic-embed-text')"
   ]
  },
  {
   "cell_type": "code",
   "execution_count": 29,
   "metadata": {},
   "outputs": [
    {
     "data": {
      "text/plain": [
       "[(Document(page_content='For as low as $55 a month, bundle your NOW Mobile service with either Xfinity or NOW internet and you will be adding one of the most affordable unlimited plans on the market'),\n",
       "  0.5582680313626371),\n",
       " (Document(page_content=\"NOW Mobile uses WiFi to the customer's advantage by tapping into more than 23 million hotspots across the country\"),\n",
       "  0.5354663574702098)]"
      ]
     },
     "execution_count": 29,
     "metadata": {},
     "output_type": "execute_result"
    }
   ],
   "source": [
    "vectorstore = DocArrayInMemorySearch.from_texts(\n",
    "    input_docs,\n",
    "    embedding=embeddings\n",
    ")\n",
    "\n",
    "vectorstore.similarity_search_with_score(query = \"What is NOW Mobile?\", k = 2)"
   ]
  },
  {
   "cell_type": "code",
   "execution_count": 30,
   "metadata": {},
   "outputs": [
    {
     "data": {
      "text/plain": [
       "[Document(page_content='For as low as $55 a month, bundle your NOW Mobile service with either Xfinity or NOW internet and you will be adding one of the most affordable unlimited plans on the market'),\n",
       " Document(page_content=\"NOW Mobile uses WiFi to the customer's advantage by tapping into more than 23 million hotspots across the country\")]"
      ]
     },
     "execution_count": 30,
     "metadata": {},
     "output_type": "execute_result"
    }
   ],
   "source": [
    "vectorstore.similarity_search(query = \"What is NOW Mobile?\", k = 2)"
   ]
  },
  {
   "cell_type": "code",
   "execution_count": 31,
   "metadata": {},
   "outputs": [
    {
     "data": {
      "text/plain": [
       "[Document(page_content='For as low as $55 a month, bundle your NOW Mobile service with either Xfinity or NOW internet and you will be adding one of the most affordable unlimited plans on the market'),\n",
       " Document(page_content=\"NOW Mobile uses WiFi to the customer's advantage by tapping into more than 23 million hotspots across the country\")]"
      ]
     },
     "execution_count": 31,
     "metadata": {},
     "output_type": "execute_result"
    }
   ],
   "source": [
    "retriever = vectorstore.as_retriever()\n",
    "retriever.invoke('What is NOW Mobile?')[:2]"
   ]
  },
  {
   "cell_type": "code",
   "execution_count": null,
   "metadata": {},
   "outputs": [],
   "source": []
  },
  {
   "cell_type": "code",
   "execution_count": 11,
   "metadata": {},
   "outputs": [
    {
     "data": {
      "text/plain": [
       "' NOW Mobile is a mobile service offering by Comcast that allows users to bundle their mobile plans with either Xfinity or NOW internet. The plan starts at as low as $55 per month for one of the most affordable unlimited plans on the market. NOW Mobile utilizes WiFi and taps into over 23 million hotspots across the country, offering a reliable service to its customers. Comcast Corporation, formerly known as American Cable Systems and Comcast Holdings, is the parent company behind this service and is one of the largest video, high-speed Internet, and phone providers in the United States.'"
      ]
     },
     "execution_count": 11,
     "metadata": {},
     "output_type": "execute_result"
    }
   ],
   "source": [
    "model = Ollama(model='phi3:medium')\n",
    "retriever = vectorstore.as_retriever()\n",
    "parser = StrOutputParser()\n",
    "\n",
    "template = \"\"\"\n",
    "Using this context: {context}. Respond to this question: {question}.\n",
    "\n",
    "Context: {context}\n",
    "\n",
    "Question: {question}\n",
    "\"\"\"\n",
    "\n",
    "prompt = PromptTemplate.from_template(template)\n",
    "\n",
    "chain = (\n",
    "    {\n",
    "        'context': itemgetter('question') | retriever,\n",
    "        'question': itemgetter('question')\n",
    "    }\n",
    "    | prompt\n",
    "    | model\n",
    "    | parser\n",
    ")\n",
    "\n",
    "chain.invoke({'question':'What is NOW Mobile?'})"
   ]
  },
  {
   "cell_type": "code",
   "execution_count": 12,
   "metadata": {},
   "outputs": [
    {
     "data": {
      "text/plain": [
       "' NOW Mobile appears to be an affordable cellular service provider offering competitive pricing for their mobile services. When bundled with either Xfinity or NOW internet, you can get access to one of the most cost-effective unlimited plans on the market at just $55 a month. This suggests that NOW Mobile provides wireless connectivity and cellular data options in conjunction with home broadband services from their partners.'"
      ]
     },
     "execution_count": 12,
     "metadata": {},
     "output_type": "execute_result"
    }
   ],
   "source": [
    "model = Ollama(model='phi3:medium')\n",
    "retriever = vectorstore.as_retriever(search_kwargs={'k': 1})\n",
    "parser = StrOutputParser()\n",
    "\n",
    "template = \"\"\"\n",
    "Using this context: {context}. Respond to this question: {question}.\n",
    "\n",
    "Context: {context}\n",
    "\n",
    "Question: {question}\n",
    "\"\"\"\n",
    "\n",
    "prompt = PromptTemplate.from_template(template)\n",
    "\n",
    "chain = (\n",
    "    {\n",
    "        'context': itemgetter('question') | retriever,\n",
    "        'question': itemgetter('question')\n",
    "    }\n",
    "    | prompt\n",
    "    | model\n",
    "    | parser\n",
    ")\n",
    "\n",
    "chain.invoke({'question':'What is NOW Mobile?'})"
   ]
  },
  {
   "cell_type": "code",
   "execution_count": 13,
   "metadata": {},
   "outputs": [
    {
     "data": {
      "text/plain": [
       "' NOW Mobile is a wireless network provider that offers mobile phone services. They provide various plans including affordable options like an unlimited plan, which can be bundled with either Xfinity or NOW internet service for added convenience and savings on monthly costs. With their range of offerings, they aim to cater to diverse customer needs in the telecommunications market.'"
      ]
     },
     "execution_count": 13,
     "metadata": {},
     "output_type": "execute_result"
    }
   ],
   "source": [
    "model = Ollama(model='phi3:medium')\n",
    "retriever = vectorstore.as_retriever(search_kwargs={'k': 1})\n",
    "parser = StrOutputParser()\n",
    "\n",
    "template = \"\"\"\n",
    "Using this data: {data}. Respond to this question: {question}. Don't mention provided data in your response'\n",
    "\"\"\"\n",
    "\n",
    "prompt = PromptTemplate.from_template(template)\n",
    "\n",
    "chain = (\n",
    "    {\n",
    "        'data': itemgetter('question') | retriever,\n",
    "        'question': itemgetter('question')\n",
    "    }\n",
    "    | prompt\n",
    "    | model\n",
    "    | parser\n",
    ")\n",
    "\n",
    "chain.invoke({'question':'What is NOW Mobile?'})"
   ]
  },
  {
   "cell_type": "code",
   "execution_count": 14,
   "metadata": {},
   "outputs": [
    {
     "data": {
      "text/plain": [
       "' A dinosaur refers to a group of reptiles that first appeared during the Mesozoic Era, approximately 230 million years ago. They are distinguished by their upright stance, with legs positioned directly beneath their bodies, and they dominated terrestrial ecosystems until their extinction about 65 million years ago at the end of the Cretaceaster Period. Dinosaurs were incredibly diverse in size, shape, diet, and habitat, ranging from small bird-like creatures to massive herbivorous giants. They laid eggs and some species are believed to have cared for their young. Interestingly, birds are considered the living descendants of theropod dinosaurs.'"
      ]
     },
     "execution_count": 14,
     "metadata": {},
     "output_type": "execute_result"
    }
   ],
   "source": [
    "chain.invoke({'question':'What is a Dinosaur?'})"
   ]
  },
  {
   "cell_type": "code",
   "execution_count": 15,
   "metadata": {},
   "outputs": [
    {
     "data": {
      "text/plain": [
       "' I do not know what a dinosaur is because the information provided does not cover it. The document only provides data about Comcast Corporation, its former names, and unrelated to any details on dinosaurs. For an accurate answer, please refer to sources specific to paleontology or natural history.'"
      ]
     },
     "execution_count": 15,
     "metadata": {},
     "output_type": "execute_result"
    }
   ],
   "source": [
    "model = Ollama(model='phi3:medium')\n",
    "retriever = vectorstore.as_retriever(search_kwargs={'k': 1})\n",
    "parser = StrOutputParser()\n",
    "\n",
    "template = \"\"\"\n",
    "Using only this data: {data}. Respond to this question: {question}. Don't mention provided data in your response. If you cannot find the answer in {data}, say that you don't know.\n",
    "\"\"\"\n",
    "\n",
    "prompt = PromptTemplate.from_template(template)\n",
    "\n",
    "chain = (\n",
    "    {\n",
    "        'data': itemgetter('question') | retriever,\n",
    "        'question': itemgetter('question')\n",
    "    }\n",
    "    | prompt\n",
    "    | model\n",
    "    | parser\n",
    ")\n",
    "\n",
    "chain.invoke({'question':'What is a dinosaur?'})"
   ]
  },
  {
   "cell_type": "code",
   "execution_count": 16,
   "metadata": {},
   "outputs": [
    {
     "data": {
      "text/plain": [
       "' Based on the given document, there is no information available about dinosaurs. However, using my general knowledge, I can tell you that dinosaurs were a group of reptiles that dominated the terrestrial ecosystems for over 160 million years during the Mesozoic Era until their sudden extinction at the end of the Cretaceaster Period. They came in various shapes and sizes ranging from small bird-like creatures to enormous long-necked herbivores, like Brachiosaurus and Diplodocus.'"
      ]
     },
     "execution_count": 16,
     "metadata": {},
     "output_type": "execute_result"
    }
   ],
   "source": [
    "model = Ollama(model='phi3:medium')\n",
    "retriever = vectorstore.as_retriever(search_kwargs={'k': 1})\n",
    "parser = StrOutputParser()\n",
    "\n",
    "template = \"\"\"\n",
    "Try to use only this data: {data}. Respond to this question: {question}. If you can't find an answer in the provided data, then answer based on your prior knowledge.'\n",
    "\"\"\"\n",
    "\n",
    "prompt = PromptTemplate.from_template(template)\n",
    "\n",
    "chain = (\n",
    "    {\n",
    "        'data': itemgetter('question') | retriever,\n",
    "        'question': itemgetter('question')\n",
    "    }\n",
    "    | prompt\n",
    "    | model\n",
    "    | parser\n",
    ")\n",
    "\n",
    "chain.invoke({'question':'What is a dinosaur?'})"
   ]
  },
  {
   "cell_type": "code",
   "execution_count": 20,
   "metadata": {},
   "outputs": [
    {
     "data": {
      "text/plain": [
       "' World War 3 happened during April 2024.'"
      ]
     },
     "execution_count": 20,
     "metadata": {},
     "output_type": "execute_result"
    }
   ],
   "source": [
    "model = Ollama(model='phi3:medium')\n",
    "retriever = vectorstore.as_retriever(search_kwargs={'k': 1})\n",
    "parser = StrOutputParser()\n",
    "\n",
    "template = \"\"\"\n",
    "Using only this data: {data}. Respond to this question: {question}. Don't mention {data} in your response.\n",
    "\"\"\"\n",
    "\n",
    "prompt = PromptTemplate.from_template(template)\n",
    "\n",
    "chain = (\n",
    "    {\n",
    "        'data': itemgetter('question') | retriever,\n",
    "        'question': itemgetter('question')\n",
    "    }\n",
    "    | prompt\n",
    "    | model\n",
    "    | parser\n",
    ")\n",
    "\n",
    "chain.invoke({'question':'When did the world war 3 happen? Just give the month and year'})"
   ]
  },
  {
   "cell_type": "code",
   "execution_count": 21,
   "metadata": {},
   "outputs": [
    {
     "data": {
      "text/plain": [
       "' During World War 3, which took place in April 2024, two major factions - the Sanganal Dynasty and the Scherban Dynasty - engaged in a conflict to gain dominion over valuable rare earth minerals. Despite the intensity of this global confrontation, there was no definitive victor declared at its conclusion. In the aftermath, however, both parties managed to secure unique assets; the Sanganal Dynasty acquired control over a special spice that allows for interstellar travel, while the Scherban Dynasty gained possession of the rings of power.'"
      ]
     },
     "execution_count": 21,
     "metadata": {},
     "output_type": "execute_result"
    }
   ],
   "source": [
    "chain.invoke({'question':'What happened during world war 3?'})"
   ]
  },
  {
   "cell_type": "code",
   "execution_count": 32,
   "metadata": {},
   "outputs": [
    {
     "data": {
      "text/plain": [
       "\" The upperhand after World War 3 isn't definitively clear as both the Sanganal Dynasty and Shcherban Dynasty acquired valuable assets. The Sanganal Dynasty gained control over a spice enabling interstellar travel, which could be crucial for space exploration, expansion or trade across planets, while the Shcherban Dynasty secured control of 'the rings of power', suggesting they may have obtained significant influence or abilities, depending on what 'rings of power' refers to. The determination of who had the upper hand would depend largely on how these assets were used and their long-term impacts.\""
      ]
     },
     "execution_count": 32,
     "metadata": {},
     "output_type": "execute_result"
    }
   ],
   "source": [
    "model = Ollama(model='phi3:medium')\n",
    "retriever = vectorstore.as_retriever(search_kwargs={'k': 1})\n",
    "parser = StrOutputParser()\n",
    "\n",
    "template = \"\"\"\n",
    "Using only this data: {data}. Respond to this question: {question}. Don't mention {data} in your response.\n",
    "\"\"\"\n",
    "\n",
    "prompt = PromptTemplate.from_template(template)\n",
    "\n",
    "chain = (\n",
    "    {\n",
    "        'data': itemgetter('question') | retriever,\n",
    "        'question': itemgetter('question')\n",
    "    }\n",
    "    | prompt\n",
    "    | model\n",
    "    | parser\n",
    ")\n",
    "\n",
    "chain.invoke({'question':'Who do you think got the upperhand after the world war 3?'})"
   ]
  },
  {
   "cell_type": "code",
   "execution_count": 39,
   "metadata": {},
   "outputs": [
    {
     "data": {
      "text/plain": [
       "' Employees receive varying amounts of vacation days depending on their completed years of service. For those with one year of service, they get 36 weeks of vacation. If an employee has completed two years of service, the allotted vacation time increases to \\n52 weeks.'"
      ]
     },
     "execution_count": 39,
     "metadata": {},
     "output_type": "execute_result"
    }
   ],
   "source": [
    "chain.invoke({'question':'how many vacation days do employees get?'})"
   ]
  },
  {
   "cell_type": "code",
   "execution_count": null,
   "metadata": {},
   "outputs": [],
   "source": []
  },
  {
   "cell_type": "markdown",
   "metadata": {},
   "source": [
    "### Section 4\n",
    "\n",
    "Test PDF input"
   ]
  },
  {
   "cell_type": "code",
   "execution_count": 22,
   "metadata": {},
   "outputs": [
    {
     "data": {
      "text/plain": [
       "18"
      ]
     },
     "execution_count": 22,
     "metadata": {},
     "output_type": "execute_result"
    }
   ],
   "source": [
    "loader = PyPDFLoader('comcast_wikipedia.pdf')\n",
    "pages = loader.load_and_split()\n",
    "len(pages)"
   ]
  },
  {
   "cell_type": "code",
   "execution_count": 23,
   "metadata": {},
   "outputs": [
    {
     "data": {
      "text/plain": [
       "[(Document(page_content=\"HeadquartersComcast Center, Philadelphia, Pennsylvania, U.S.\\nArea served Worldwide\\nKey people Brian L. Roberts (chairman & CEO)\\nMichael J. Cavanagh (president)\\nProducts Cable television\\nBroadband\\nInternet service\\nBroadcasting\\nRevenue\\n  US$121.6 billion\\xa0(2023)\\nOperating\\nincome\\n US$23.31 billion\\xa0(2023)\\nNet income\\n  US$15.11 billion\\xa0(2023)\\nTotal assets\\n  US$264.8 billion\\xa0(2023)\\nTotal equity\\n  US$83.23 billion\\xa0(2023)\\nOwner Brian L. Roberts (1% equity interest, 33% voting power)\\nNumber of\\nemployees186,000\\xa0(2023)\\nDivisions Xﬁnity\\nComcast Spectacor\\nSubsidiariesMidco (49%)\\nNBCUniversal\\nSky Group\\nASN 7922 (https://bgp.tools/as/7922)\\nWebsite corporate.comcast.com (https://corporate.comcast.com/)\\nFootnotes\\xa0/ references\\n[ 1 ] [ 2 ] [ 3 ] [ 4 ] [ 5 ] [ 6 ] [ 7 ]Comcast\\nCorporation  (simply known as Comcast , and form erly known as American Cable  Systems  and\\nComcast Holdings ),[note 1] incorpo rated and headquartered in Philadelphia , is an American\\nmultinational  telecommunications  and media  conglomerate .[8] The corp oration is the second-largest\\nbroadcasting  and cable television  company  in the world by revenue (behind AT&T ). It is the third-\\nlargest pay-TV  company, the second-largest cable TV company by subscribers, and the largest home\\nInternet service provider  in the United States. In 2023, the company was ranked 51st in the Forbes\\nGlobal 2000.[9] Com cast is additio nally the nation's third-largest home telephone service provider . It\\nprovides services to U.S. residential and commercial customers in 40 states and the District of\\nColumbia .[10] As the owner of the international media company NBCUniversal  since 2011, Comca st is\\nalso a high-volum e producer of feature films for theatrical exhibition and television programming,\\nand a theme park operator. It is the world's third-largest telecommunications company  by revenue.\\nComcast owns and operates the Xfinity  resident ial cable communications business segment and\\ndivision; Comcast Business, a comm ercial services provider; and Xfinity Mobile, an MVNO  of Verizon.\\nThrough NBCUniversal , it also owns and operates over-the-air national broadcast network channels5/26/24, 11:35 PM Comcast - Wikipedia\\nhttps://en.wikipedia.org/wiki/Comcast 2/36\", metadata={'source': 'comcast_wikipedia.pdf', 'page': 1}),\n",
       "  0.5833262067285631),\n",
       " (Document(page_content=\"1967NBC broadcasts the ﬁrst\\nSuper Bowl\\n1968American Cable Systems\\nrebrands to Comcast\\n1972Comcast began trading on\\nthe New York Stock\\nExchange (NYSE)\\n1975Universal releases Jaws\\n1980PolyGram renames\\nCasablanca Record &\\nFilmworks to PolyGram\\nPictures\\nMCA Videocassette‚ Inc.\\n(Later Universal Pictures\\nHome Entertainment is\\nestablished\\n1982Universal releases E.T. the\\nExtra-Terrestrial\\n1984Walter Lantz Productions'\\nassets are sold to\\nUniversal\\nTelemundo is founded\\n1985Universal releases Back to\\nthe Future\\n1986General Electric buys RCA\\nfor $6.4 billion, including\\nNBC and a stake in A&E\\n1989NBC relaunches Tempo\\nTelevision as CNBC\\n1990Universal Studios Florida\\nopens\\nLaw & Order premieres on\\nNBC\\nSky Television and British\\nSatellite Broadcasting\\nmerge to form British Sky\\nBroadcasting\\nUniversal Cartoon Studios\\n(later Universal Animation\\nStudios) is established\\n1993Universal releases\\nJurassic ParkGerald Hassell , former chairman and CEO of The Bank of\\nNew York Mellon\\nJeffrey Honickman, CEO of Pepsi-Cola  Bottling\\nMaritza Montiel, former deputy chairman and CEO of Deloitte\\nAsuka Nakahara, former CFO of Trammell Crow\\nDavid C. Novak , former chairman and CEO of YUM! Brands\\nMichael J. Cavanagh , President\\nCesar Conde , Chairman, NBCUniversal News Group\\nRebecca Blumenstein , President, NBC News Editorial\\nLuis Fernández, Chairman, NBCUniversal Telemundo\\nEnterprises\\nBeau Ferrari, Senior Advisor to the Chairman of\\nNBCUniversal News Group\\nRashida Jones , President, MSNBC\\nValari Dobson Staab, Chairman, NBCUniversal Local\\nKC Sullivan, President, CNBC\\nBonnie Hammer , Vice Chairman, NBCUniversal\\nKimberley D. Harris, Executive V ice President of Comcast\\nCorporation and General Counsel of NBCUniversal\\nAnand Kini, Executive V ice President, Corporate Strategy ,\\nComcast Corporation and Chief Financial Ofﬁcer ,\\nNBCUniversal\\nDonna Langley , Chairwoman, NBCUniversal Studio Group\\n& Chief Content Ofﬁcer\\nJimmy Horowitz, Chairman, Business Affairs &\\nOperations\\nPearlena Igbokwe , Chairwoman, Universal Studio\\nGroup\\nPeter Levinsohn, V ice Chairman & Chief Distribution\\nOfﬁcer , Universal Filmed Entertainment Group\\nMark Lazarus, Chairman, NBCUniversal Media Group\\nFrances Berwick, Chairman, NBCUniversal\\nEntertainment\\nPete Bevacqua , Chairman, NBC Sports Group\\nMatt Bond, Chairman, Content Distribution\\nMatt Schnaars, President, Content Distribution\\nMark Marshall, Chairman, Global Advertising &\\nPartnerships, NBCUniversal\\nJenny Storms, Chief Marketing Ofﬁcer , Entertainment\\nand Sports\\nMatt Strauss, Chairman, Direct-to-Consumer and\\nInternationalExecutives5/26/24, 11:35 PM Comcast - Wikipedia\\nhttps://en.wikipedia.org/wiki/Comcast 4/36\", metadata={'source': 'comcast_wikipedia.pdf', 'page': 3}),\n",
       "  0.5602604738109083)]"
      ]
     },
     "execution_count": 23,
     "metadata": {},
     "output_type": "execute_result"
    }
   ],
   "source": [
    "vectorstore = DocArrayInMemorySearch.from_documents(pages, embedding=embeddings)\n",
    "vectorstore.similarity_search_with_score(query = \"What is NOW Mobile?\", k = 2)"
   ]
  },
  {
   "cell_type": "code",
   "execution_count": 25,
   "metadata": {},
   "outputs": [
    {
     "data": {
      "text/plain": [
       "' Xumo is a free ad-supported streaming television (FAST) service that Comcast acquired on February 25, e., in addition to its premium streaming service Peacock and the streaming platforms Pluto TV and Tubi. The service operates as part of the Comcast Cable division and features content from both first-party and third-party sources. It is available globally through distribution partnerships with smart TV manufacturers and can be accessed on YouTube in some regions.'"
      ]
     },
     "execution_count": 25,
     "metadata": {},
     "output_type": "execute_result"
    }
   ],
   "source": [
    "model = Ollama(model='phi3:medium')\n",
    "retriever = vectorstore.as_retriever(search_kwargs={'k': 1})\n",
    "parser = StrOutputParser()\n",
    "\n",
    "template = \"\"\"\n",
    "Using only this context: {context}. Respond to this question: {question}.\n",
    "\n",
    "Context: {context}\n",
    "\n",
    "Question: {question}\n",
    "\"\"\"\n",
    "\n",
    "prompt = PromptTemplate.from_template(template)\n",
    "\n",
    "chain = (\n",
    "    {\n",
    "        'context': itemgetter('question') | retriever,\n",
    "        'question': itemgetter('question')\n",
    "    }\n",
    "    | prompt\n",
    "    | model\n",
    "    | parser\n",
    ")\n",
    "\n",
    "chain.invoke({'question':'What is Xumo?'})"
   ]
  },
  {
   "cell_type": "code",
   "execution_count": 26,
   "metadata": {},
   "outputs": [
    {
     "data": {
      "text/plain": [
       "' Yes, Comcast is headquartered in Philadelphia. According to the provided Wikipedia document, it mentions that \"Comcast attempts to acquire Time Warner Cable for $45.n billion\" and provides other information related to its financial performance. Additionally, there\\'s a note stating \"[32][33] The Boston Globe found Comcast to be that city\\\\\\'s top place to work in 2009.\" This suggests that the company is headquartered near or within Boston but does not confirm it as such. However, further research confirms that Comcast\\'s headquarters are indeed located in Philadelphia.'"
      ]
     },
     "execution_count": 26,
     "metadata": {},
     "output_type": "execute_result"
    }
   ],
   "source": [
    "chain.invoke({\"question\":\"Is Comcast headquartered in Philadelphia?\"})"
   ]
  },
  {
   "cell_type": "code",
   "execution_count": 27,
   "metadata": {},
   "outputs": [
    {
     "data": {
      "text/plain": [
       "\" Yes, Comcast is involved in philanthropic efforts as demonstrated by their initiative announced in August 2015 to increase Internet access for low-income customers and senior citizens. The company increased Internet speeds from 5 Mbit/s to 10 Mbit/s for these individuals, provided free wireless routers, and piloted a program specifically targeting low-income senior citizens' Internet access. This initiative shows Comcast's commitment to philanthropy by addressing the digital divide and supporting underprivileged communities with better connectivity options.\""
      ]
     },
     "execution_count": 27,
     "metadata": {},
     "output_type": "execute_result"
    }
   ],
   "source": [
    "chain.invoke({\"question\":\"Is Comcast involved in any Philanthropy?\"})"
   ]
  },
  {
   "cell_type": "code",
   "execution_count": null,
   "metadata": {},
   "outputs": [],
   "source": []
  }
 ],
 "metadata": {
  "kernelspec": {
   "display_name": "Python 3 (ipykernel)",
   "language": "python",
   "name": "python3"
  },
  "language_info": {
   "codemirror_mode": {
    "name": "ipython",
    "version": 3
   },
   "file_extension": ".py",
   "mimetype": "text/x-python",
   "name": "python",
   "nbconvert_exporter": "python",
   "pygments_lexer": "ipython3",
   "version": "3.12.1"
  }
 },
 "nbformat": 4,
 "nbformat_minor": 4
}
