{
 "cells": [
  {
   "cell_type": "markdown",
   "metadata": {},
   "source": [
    "# POC of how to use the Anbennar events details to add a RAG to a Langchain model\n",
    "---"
   ]
  },
  {
   "cell_type": "code",
   "execution_count": 1,
   "metadata": {},
   "outputs": [
    {
     "name": "stdout",
     "output_type": "stream",
     "text": [
      "Requirement already satisfied: chromadb in /Users/iantongs/opt/anaconda3/lib/python3.9/site-packages (0.5.0)\n",
      "Requirement already satisfied: tqdm in /Users/iantongs/opt/anaconda3/lib/python3.9/site-packages (4.66.4)\n",
      "Requirement already satisfied: langchain in /Users/iantongs/opt/anaconda3/lib/python3.9/site-packages (0.2.3)\n",
      "Requirement already satisfied: langchain_community in /Users/iantongs/opt/anaconda3/lib/python3.9/site-packages (0.2.4)\n",
      "Requirement already satisfied: kubernetes>=28.1.0 in /Users/iantongs/opt/anaconda3/lib/python3.9/site-packages (from chromadb) (30.1.0)\n",
      "Requirement already satisfied: chroma-hnswlib==0.7.3 in /Users/iantongs/opt/anaconda3/lib/python3.9/site-packages (from chromadb) (0.7.3)\n",
      "Requirement already satisfied: opentelemetry-api>=1.2.0 in /Users/iantongs/opt/anaconda3/lib/python3.9/site-packages (from chromadb) (1.25.0)\n",
      "Requirement already satisfied: opentelemetry-instrumentation-fastapi>=0.41b0 in /Users/iantongs/opt/anaconda3/lib/python3.9/site-packages (from chromadb) (0.46b0)\n",
      "Requirement already satisfied: bcrypt>=4.0.1 in /Users/iantongs/opt/anaconda3/lib/python3.9/site-packages (from chromadb) (4.1.3)\n",
      "Requirement already satisfied: typing-extensions>=4.5.0 in /Users/iantongs/opt/anaconda3/lib/python3.9/site-packages (from chromadb) (4.12.1)\n",
      "Requirement already satisfied: opentelemetry-exporter-otlp-proto-grpc>=1.2.0 in /Users/iantongs/opt/anaconda3/lib/python3.9/site-packages (from chromadb) (1.25.0)\n",
      "Requirement already satisfied: pypika>=0.48.9 in /Users/iantongs/opt/anaconda3/lib/python3.9/site-packages (from chromadb) (0.48.9)\n",
      "Requirement already satisfied: overrides>=7.3.1 in /Users/iantongs/opt/anaconda3/lib/python3.9/site-packages (from chromadb) (7.7.0)\n",
      "Requirement already satisfied: importlib-resources in /Users/iantongs/opt/anaconda3/lib/python3.9/site-packages (from chromadb) (6.4.0)\n",
      "Requirement already satisfied: build>=1.0.3 in /Users/iantongs/opt/anaconda3/lib/python3.9/site-packages (from chromadb) (1.2.1)\n",
      "Requirement already satisfied: posthog>=2.4.0 in /Users/iantongs/opt/anaconda3/lib/python3.9/site-packages (from chromadb) (3.5.0)\n",
      "Requirement already satisfied: typer>=0.9.0 in /Users/iantongs/opt/anaconda3/lib/python3.9/site-packages (from chromadb) (0.12.3)\n",
      "Requirement already satisfied: grpcio>=1.58.0 in /Users/iantongs/opt/anaconda3/lib/python3.9/site-packages (from chromadb) (1.64.1)\n",
      "Requirement already satisfied: opentelemetry-sdk>=1.2.0 in /Users/iantongs/opt/anaconda3/lib/python3.9/site-packages (from chromadb) (1.25.0)\n",
      "Requirement already satisfied: uvicorn[standard]>=0.18.3 in /Users/iantongs/opt/anaconda3/lib/python3.9/site-packages (from chromadb) (0.30.1)\n",
      "Requirement already satisfied: tokenizers>=0.13.2 in /Users/iantongs/opt/anaconda3/lib/python3.9/site-packages (from chromadb) (0.19.1)\n",
      "Requirement already satisfied: orjson>=3.9.12 in /Users/iantongs/opt/anaconda3/lib/python3.9/site-packages (from chromadb) (3.10.3)\n",
      "Requirement already satisfied: tenacity>=8.2.3 in /Users/iantongs/opt/anaconda3/lib/python3.9/site-packages (from chromadb) (8.3.0)\n",
      "Requirement already satisfied: onnxruntime>=1.14.1 in /Users/iantongs/opt/anaconda3/lib/python3.9/site-packages (from chromadb) (1.16.3)\n",
      "Requirement already satisfied: fastapi>=0.95.2 in /Users/iantongs/opt/anaconda3/lib/python3.9/site-packages (from chromadb) (0.111.0)\n",
      "Requirement already satisfied: mmh3>=4.0.1 in /Users/iantongs/opt/anaconda3/lib/python3.9/site-packages (from chromadb) (4.1.0)\n",
      "Requirement already satisfied: requests>=2.28 in /Users/iantongs/opt/anaconda3/lib/python3.9/site-packages (from chromadb) (2.32.3)\n",
      "Requirement already satisfied: pydantic>=1.9 in /Users/iantongs/opt/anaconda3/lib/python3.9/site-packages (from chromadb) (2.7.3)\n",
      "Requirement already satisfied: PyYAML>=6.0.0 in /Users/iantongs/opt/anaconda3/lib/python3.9/site-packages (from chromadb) (6.0)\n",
      "Requirement already satisfied: numpy>=1.22.5 in /Users/iantongs/opt/anaconda3/lib/python3.9/site-packages (from chromadb) (1.26.4)\n",
      "Requirement already satisfied: langchain-text-splitters<0.3.0,>=0.2.0 in /Users/iantongs/opt/anaconda3/lib/python3.9/site-packages (from langchain) (0.2.1)\n",
      "Requirement already satisfied: SQLAlchemy<3,>=1.4 in /Users/iantongs/opt/anaconda3/lib/python3.9/site-packages (from langchain) (1.4.22)\n",
      "Requirement already satisfied: aiohttp<4.0.0,>=3.8.3 in /Users/iantongs/opt/anaconda3/lib/python3.9/site-packages (from langchain) (3.9.5)\n",
      "Requirement already satisfied: async-timeout<5.0.0,>=4.0.0 in /Users/iantongs/opt/anaconda3/lib/python3.9/site-packages (from langchain) (4.0.3)\n",
      "Requirement already satisfied: langchain-core<0.3.0,>=0.2.0 in /Users/iantongs/opt/anaconda3/lib/python3.9/site-packages (from langchain) (0.2.5)\n",
      "Requirement already satisfied: langsmith<0.2.0,>=0.1.17 in /Users/iantongs/opt/anaconda3/lib/python3.9/site-packages (from langchain) (0.1.75)\n",
      "Requirement already satisfied: dataclasses-json<0.7,>=0.5.7 in /Users/iantongs/opt/anaconda3/lib/python3.9/site-packages (from langchain_community) (0.6.6)\n",
      "Requirement already satisfied: aiosignal>=1.1.2 in /Users/iantongs/opt/anaconda3/lib/python3.9/site-packages (from aiohttp<4.0.0,>=3.8.3->langchain) (1.3.1)\n",
      "Requirement already satisfied: multidict<7.0,>=4.5 in /Users/iantongs/opt/anaconda3/lib/python3.9/site-packages (from aiohttp<4.0.0,>=3.8.3->langchain) (6.0.5)\n",
      "Requirement already satisfied: frozenlist>=1.1.1 in /Users/iantongs/opt/anaconda3/lib/python3.9/site-packages (from aiohttp<4.0.0,>=3.8.3->langchain) (1.4.1)\n",
      "Requirement already satisfied: yarl<2.0,>=1.0 in /Users/iantongs/opt/anaconda3/lib/python3.9/site-packages (from aiohttp<4.0.0,>=3.8.3->langchain) (1.9.4)\n",
      "Requirement already satisfied: attrs>=17.3.0 in /Users/iantongs/opt/anaconda3/lib/python3.9/site-packages (from aiohttp<4.0.0,>=3.8.3->langchain) (21.2.0)\n",
      "Requirement already satisfied: packaging>=19.1 in /Users/iantongs/opt/anaconda3/lib/python3.9/site-packages (from build>=1.0.3->chromadb) (23.2)\n",
      "Requirement already satisfied: pyproject_hooks in /Users/iantongs/opt/anaconda3/lib/python3.9/site-packages (from build>=1.0.3->chromadb) (1.1.0)\n",
      "Requirement already satisfied: importlib-metadata>=4.6 in /Users/iantongs/opt/anaconda3/lib/python3.9/site-packages (from build>=1.0.3->chromadb) (7.1.0)\n",
      "Requirement already satisfied: tomli>=1.1.0 in /Users/iantongs/opt/anaconda3/lib/python3.9/site-packages (from build>=1.0.3->chromadb) (2.0.1)\n",
      "Requirement already satisfied: marshmallow<4.0.0,>=3.18.0 in /Users/iantongs/opt/anaconda3/lib/python3.9/site-packages (from dataclasses-json<0.7,>=0.5.7->langchain_community) (3.21.3)\n",
      "Requirement already satisfied: typing-inspect<1,>=0.4.0 in /Users/iantongs/opt/anaconda3/lib/python3.9/site-packages (from dataclasses-json<0.7,>=0.5.7->langchain_community) (0.9.0)\n",
      "Requirement already satisfied: email_validator>=2.0.0 in /Users/iantongs/opt/anaconda3/lib/python3.9/site-packages (from fastapi>=0.95.2->chromadb) (2.1.1)\n",
      "Requirement already satisfied: jinja2>=2.11.2 in /Users/iantongs/opt/anaconda3/lib/python3.9/site-packages (from fastapi>=0.95.2->chromadb) (2.11.3)\n",
      "Requirement already satisfied: fastapi-cli>=0.0.2 in /Users/iantongs/opt/anaconda3/lib/python3.9/site-packages (from fastapi>=0.95.2->chromadb) (0.0.4)\n",
      "Requirement already satisfied: python-multipart>=0.0.7 in /Users/iantongs/opt/anaconda3/lib/python3.9/site-packages (from fastapi>=0.95.2->chromadb) (0.0.9)\n",
      "Requirement already satisfied: starlette<0.38.0,>=0.37.2 in /Users/iantongs/opt/anaconda3/lib/python3.9/site-packages (from fastapi>=0.95.2->chromadb) (0.37.2)\n",
      "Requirement already satisfied: httpx>=0.23.0 in /Users/iantongs/opt/anaconda3/lib/python3.9/site-packages (from fastapi>=0.95.2->chromadb) (0.27.0)\n",
      "Requirement already satisfied: ujson!=4.0.2,!=4.1.0,!=4.2.0,!=4.3.0,!=5.0.0,!=5.1.0,>=4.0.1 in /Users/iantongs/opt/anaconda3/lib/python3.9/site-packages (from fastapi>=0.95.2->chromadb) (5.10.0)\n",
      "Requirement already satisfied: idna>=2.0.0 in /Users/iantongs/opt/anaconda3/lib/python3.9/site-packages (from email_validator>=2.0.0->fastapi>=0.95.2->chromadb) (3.2)\n",
      "Requirement already satisfied: dnspython>=2.0.0 in /Users/iantongs/opt/anaconda3/lib/python3.9/site-packages (from email_validator>=2.0.0->fastapi>=0.95.2->chromadb) (2.6.1)\n",
      "Requirement already satisfied: sniffio in /Users/iantongs/opt/anaconda3/lib/python3.9/site-packages (from httpx>=0.23.0->fastapi>=0.95.2->chromadb) (1.2.0)\n",
      "Requirement already satisfied: anyio in /Users/iantongs/opt/anaconda3/lib/python3.9/site-packages (from httpx>=0.23.0->fastapi>=0.95.2->chromadb) (4.4.0)\n",
      "Requirement already satisfied: httpcore==1.* in /Users/iantongs/opt/anaconda3/lib/python3.9/site-packages (from httpx>=0.23.0->fastapi>=0.95.2->chromadb) (1.0.5)\n",
      "Requirement already satisfied: certifi in /Users/iantongs/opt/anaconda3/lib/python3.9/site-packages (from httpx>=0.23.0->fastapi>=0.95.2->chromadb) (2021.10.8)\n",
      "Requirement already satisfied: h11<0.15,>=0.13 in /Users/iantongs/opt/anaconda3/lib/python3.9/site-packages (from httpcore==1.*->httpx>=0.23.0->fastapi>=0.95.2->chromadb) (0.14.0)\n",
      "Requirement already satisfied: zipp>=0.5 in /Users/iantongs/opt/anaconda3/lib/python3.9/site-packages (from importlib-metadata>=4.6->build>=1.0.3->chromadb) (3.6.0)\n",
      "Requirement already satisfied: MarkupSafe>=0.23 in /Users/iantongs/opt/anaconda3/lib/python3.9/site-packages (from jinja2>=2.11.2->fastapi>=0.95.2->chromadb) (1.1.1)\n",
      "Requirement already satisfied: google-auth>=1.0.1 in /Users/iantongs/opt/anaconda3/lib/python3.9/site-packages (from kubernetes>=28.1.0->chromadb) (2.6.6)\n",
      "Requirement already satisfied: python-dateutil>=2.5.3 in /Users/iantongs/opt/anaconda3/lib/python3.9/site-packages (from kubernetes>=28.1.0->chromadb) (2.8.2)\n",
      "Requirement already satisfied: requests-oauthlib in /Users/iantongs/opt/anaconda3/lib/python3.9/site-packages (from kubernetes>=28.1.0->chromadb) (1.3.1)\n",
      "Requirement already satisfied: oauthlib>=3.2.2 in /Users/iantongs/opt/anaconda3/lib/python3.9/site-packages (from kubernetes>=28.1.0->chromadb) (3.2.2)\n",
      "Requirement already satisfied: six>=1.9.0 in /Users/iantongs/opt/anaconda3/lib/python3.9/site-packages (from kubernetes>=28.1.0->chromadb) (1.16.0)\n",
      "Requirement already satisfied: websocket-client!=0.40.0,!=0.41.*,!=0.42.*,>=0.32.0 in /Users/iantongs/opt/anaconda3/lib/python3.9/site-packages (from kubernetes>=28.1.0->chromadb) (1.8.0)\n",
      "Requirement already satisfied: urllib3>=1.24.2 in /Users/iantongs/opt/anaconda3/lib/python3.9/site-packages (from kubernetes>=28.1.0->chromadb) (1.26.7)\n",
      "Requirement already satisfied: rsa<5,>=3.1.4 in /Users/iantongs/opt/anaconda3/lib/python3.9/site-packages (from google-auth>=1.0.1->kubernetes>=28.1.0->chromadb) (4.8)\n",
      "Requirement already satisfied: cachetools<6.0,>=2.0.0 in /Users/iantongs/opt/anaconda3/lib/python3.9/site-packages (from google-auth>=1.0.1->kubernetes>=28.1.0->chromadb) (5.0.0)\n",
      "Requirement already satisfied: pyasn1-modules>=0.2.1 in /Users/iantongs/opt/anaconda3/lib/python3.9/site-packages (from google-auth>=1.0.1->kubernetes>=28.1.0->chromadb) (0.2.8)\n",
      "Requirement already satisfied: jsonpatch<2.0,>=1.33 in /Users/iantongs/opt/anaconda3/lib/python3.9/site-packages (from langchain-core<0.3.0,>=0.2.0->langchain) (1.33)\n",
      "Requirement already satisfied: jsonpointer>=1.9 in /Users/iantongs/opt/anaconda3/lib/python3.9/site-packages (from jsonpatch<2.0,>=1.33->langchain-core<0.3.0,>=0.2.0->langchain) (2.4)\n",
      "Requirement already satisfied: coloredlogs in /Users/iantongs/opt/anaconda3/lib/python3.9/site-packages (from onnxruntime>=1.14.1->chromadb) (15.0.1)\n",
      "Requirement already satisfied: protobuf in /Users/iantongs/opt/anaconda3/lib/python3.9/site-packages (from onnxruntime>=1.14.1->chromadb) (3.20.1)\n",
      "Requirement already satisfied: sympy in /Users/iantongs/opt/anaconda3/lib/python3.9/site-packages (from onnxruntime>=1.14.1->chromadb) (1.9)\n",
      "Requirement already satisfied: flatbuffers in /Users/iantongs/opt/anaconda3/lib/python3.9/site-packages (from onnxruntime>=1.14.1->chromadb) (2.0)\n",
      "Requirement already satisfied: deprecated>=1.2.6 in /Users/iantongs/opt/anaconda3/lib/python3.9/site-packages (from opentelemetry-api>=1.2.0->chromadb) (1.2.14)\n",
      "Requirement already satisfied: wrapt<2,>=1.10 in /Users/iantongs/opt/anaconda3/lib/python3.9/site-packages (from deprecated>=1.2.6->opentelemetry-api>=1.2.0->chromadb) (1.12.1)\n",
      "Requirement already satisfied: googleapis-common-protos~=1.52 in /Users/iantongs/opt/anaconda3/lib/python3.9/site-packages (from opentelemetry-exporter-otlp-proto-grpc>=1.2.0->chromadb) (1.56.0)\n",
      "Requirement already satisfied: opentelemetry-proto==1.25.0 in /Users/iantongs/opt/anaconda3/lib/python3.9/site-packages (from opentelemetry-exporter-otlp-proto-grpc>=1.2.0->chromadb) (1.25.0)\n",
      "Requirement already satisfied: opentelemetry-exporter-otlp-proto-common==1.25.0 in /Users/iantongs/opt/anaconda3/lib/python3.9/site-packages (from opentelemetry-exporter-otlp-proto-grpc>=1.2.0->chromadb) (1.25.0)\n",
      "Requirement already satisfied: opentelemetry-instrumentation-asgi==0.46b0 in /Users/iantongs/opt/anaconda3/lib/python3.9/site-packages (from opentelemetry-instrumentation-fastapi>=0.41b0->chromadb) (0.46b0)\n",
      "Requirement already satisfied: opentelemetry-instrumentation==0.46b0 in /Users/iantongs/opt/anaconda3/lib/python3.9/site-packages (from opentelemetry-instrumentation-fastapi>=0.41b0->chromadb) (0.46b0)\n",
      "Requirement already satisfied: opentelemetry-semantic-conventions==0.46b0 in /Users/iantongs/opt/anaconda3/lib/python3.9/site-packages (from opentelemetry-instrumentation-fastapi>=0.41b0->chromadb) (0.46b0)\n",
      "Requirement already satisfied: opentelemetry-util-http==0.46b0 in /Users/iantongs/opt/anaconda3/lib/python3.9/site-packages (from opentelemetry-instrumentation-fastapi>=0.41b0->chromadb) (0.46b0)\n",
      "Requirement already satisfied: setuptools>=16.0 in /Users/iantongs/opt/anaconda3/lib/python3.9/site-packages (from opentelemetry-instrumentation==0.46b0->opentelemetry-instrumentation-fastapi>=0.41b0->chromadb) (58.0.4)\n",
      "Requirement already satisfied: asgiref~=3.0 in /Users/iantongs/opt/anaconda3/lib/python3.9/site-packages (from opentelemetry-instrumentation-asgi==0.46b0->opentelemetry-instrumentation-fastapi>=0.41b0->chromadb) (3.8.1)\n",
      "Requirement already satisfied: monotonic>=1.5 in /Users/iantongs/opt/anaconda3/lib/python3.9/site-packages (from posthog>=2.4.0->chromadb) (1.6)\n",
      "Requirement already satisfied: backoff>=1.10.0 in /Users/iantongs/opt/anaconda3/lib/python3.9/site-packages (from posthog>=2.4.0->chromadb) (2.2.1)\n",
      "Requirement already satisfied: pyasn1<0.5.0,>=0.4.6 in /Users/iantongs/opt/anaconda3/lib/python3.9/site-packages (from pyasn1-modules>=0.2.1->google-auth>=1.0.1->kubernetes>=28.1.0->chromadb) (0.4.8)\n",
      "Requirement already satisfied: annotated-types>=0.4.0 in /Users/iantongs/opt/anaconda3/lib/python3.9/site-packages (from pydantic>=1.9->chromadb) (0.7.0)\n",
      "Requirement already satisfied: pydantic-core==2.18.4 in /Users/iantongs/opt/anaconda3/lib/python3.9/site-packages (from pydantic>=1.9->chromadb) (2.18.4)\n",
      "Requirement already satisfied: charset-normalizer<4,>=2 in /Users/iantongs/opt/anaconda3/lib/python3.9/site-packages (from requests>=2.28->chromadb) (2.0.4)\n",
      "Requirement already satisfied: greenlet!=0.4.17 in /Users/iantongs/opt/anaconda3/lib/python3.9/site-packages (from SQLAlchemy<3,>=1.4->langchain) (1.1.1)\n",
      "Requirement already satisfied: exceptiongroup>=1.0.2 in /Users/iantongs/opt/anaconda3/lib/python3.9/site-packages (from anyio->httpx>=0.23.0->fastapi>=0.95.2->chromadb) (1.2.1)\n",
      "Requirement already satisfied: huggingface-hub<1.0,>=0.16.4 in /Users/iantongs/opt/anaconda3/lib/python3.9/site-packages (from tokenizers>=0.13.2->chromadb) (0.23.3)\n",
      "Requirement already satisfied: fsspec>=2023.5.0 in /Users/iantongs/opt/anaconda3/lib/python3.9/site-packages (from huggingface-hub<1.0,>=0.16.4->tokenizers>=0.13.2->chromadb) (2024.6.0)\n",
      "Requirement already satisfied: filelock in /Users/iantongs/opt/anaconda3/lib/python3.9/site-packages (from huggingface-hub<1.0,>=0.16.4->tokenizers>=0.13.2->chromadb) (3.3.1)\n",
      "Requirement already satisfied: rich>=10.11.0 in /Users/iantongs/opt/anaconda3/lib/python3.9/site-packages (from typer>=0.9.0->chromadb) (13.7.1)\n",
      "Requirement already satisfied: shellingham>=1.3.0 in /Users/iantongs/opt/anaconda3/lib/python3.9/site-packages (from typer>=0.9.0->chromadb) (1.5.4)\n",
      "Requirement already satisfied: click>=8.0.0 in /Users/iantongs/opt/anaconda3/lib/python3.9/site-packages (from typer>=0.9.0->chromadb) (8.0.3)\n",
      "Requirement already satisfied: markdown-it-py>=2.2.0 in /Users/iantongs/opt/anaconda3/lib/python3.9/site-packages (from rich>=10.11.0->typer>=0.9.0->chromadb) (3.0.0)\n",
      "Requirement already satisfied: pygments<3.0.0,>=2.13.0 in /Users/iantongs/opt/anaconda3/lib/python3.9/site-packages (from rich>=10.11.0->typer>=0.9.0->chromadb) (2.18.0)\n",
      "Requirement already satisfied: mdurl~=0.1 in /Users/iantongs/opt/anaconda3/lib/python3.9/site-packages (from markdown-it-py>=2.2.0->rich>=10.11.0->typer>=0.9.0->chromadb) (0.1.2)\n",
      "Requirement already satisfied: mypy-extensions>=0.3.0 in /Users/iantongs/opt/anaconda3/lib/python3.9/site-packages (from typing-inspect<1,>=0.4.0->dataclasses-json<0.7,>=0.5.7->langchain_community) (0.4.3)\n",
      "Requirement already satisfied: uvloop!=0.15.0,!=0.15.1,>=0.14.0 in /Users/iantongs/opt/anaconda3/lib/python3.9/site-packages (from uvicorn[standard]>=0.18.3->chromadb) (0.19.0)\n",
      "Requirement already satisfied: websockets>=10.4 in /Users/iantongs/opt/anaconda3/lib/python3.9/site-packages (from uvicorn[standard]>=0.18.3->chromadb) (12.0)\n",
      "Requirement already satisfied: python-dotenv>=0.13 in /Users/iantongs/opt/anaconda3/lib/python3.9/site-packages (from uvicorn[standard]>=0.18.3->chromadb) (1.0.1)\n",
      "Requirement already satisfied: watchfiles>=0.13 in /Users/iantongs/opt/anaconda3/lib/python3.9/site-packages (from uvicorn[standard]>=0.18.3->chromadb) (0.22.0)\n",
      "Requirement already satisfied: httptools>=0.5.0 in /Users/iantongs/opt/anaconda3/lib/python3.9/site-packages (from uvicorn[standard]>=0.18.3->chromadb) (0.6.1)\n",
      "Requirement already satisfied: humanfriendly>=9.1 in /Users/iantongs/opt/anaconda3/lib/python3.9/site-packages (from coloredlogs->onnxruntime>=1.14.1->chromadb) (10.0)\n",
      "Requirement already satisfied: mpmath>=0.19 in /Users/iantongs/opt/anaconda3/lib/python3.9/site-packages (from sympy->onnxruntime>=1.14.1->chromadb) (1.2.1)\n"
     ]
    }
   ],
   "source": [
    "!pip install chromadb tqdm langchain langchain_community chromadb "
   ]
  },
  {
   "cell_type": "code",
   "execution_count": 2,
   "metadata": {},
   "outputs": [],
   "source": [
    "# Load used packages\n",
    "import os\n",
    "import json\n",
    "import pandas as pd\n",
    "import numpy as np\n",
    "import chromadb\n",
    "from typing import List\n",
    "from chromadb.config import Settings\n",
    "from langchain.chains import LLMChain, RetrievalQA\n",
    "from langchain.llms import Bedrock\n",
    "from langchain.prompts import PromptTemplate\n",
    "\n",
    "# The below kills the kernel, need to investigate\n",
    "# from sentence_transformers import SentenceTransformer"
   ]
  },
  {
   "cell_type": "code",
   "execution_count": null,
   "metadata": {},
   "outputs": [
    {
     "name": "stderr",
     "output_type": "stream",
     "text": [
      "/Users/iantongs/opt/anaconda3/lib/python3.9/site-packages/sentence_transformers/cross_encoder/CrossEncoder.py:11: TqdmExperimentalWarning: Using `tqdm.autonotebook.tqdm` in notebook mode. Use `tqdm.tqdm` instead to force console mode (e.g. in jupyter console)\n",
      "  from tqdm.autonotebook import tqdm, trange\n"
     ]
    },
    {
     "ename": "",
     "evalue": "",
     "output_type": "error",
     "traceback": [
      "\u001b[1;31mThe Kernel crashed while executing code in the current cell or a previous cell. \n",
      "\u001b[1;31mPlease review the code in the cell(s) to identify a possible cause of the failure. \n",
      "\u001b[1;31mClick <a href='https://aka.ms/vscodeJupyterKernelCrash'>here</a> for more info. \n",
      "\u001b[1;31mView Jupyter <a href='command:jupyter.viewOutput'>log</a> for further details."
     ]
    }
   ],
   "source": [
    "\n"
   ]
  },
  {
   "cell_type": "code",
   "execution_count": null,
   "metadata": {},
   "outputs": [
    {
     "name": "stderr",
     "output_type": "stream",
     "text": [
      "/Users/iantongs/opt/anaconda3/lib/python3.9/site-packages/sentence_transformers/cross_encoder/CrossEncoder.py:11: TqdmExperimentalWarning: Using `tqdm.autonotebook.tqdm` in notebook mode. Use `tqdm.tqdm` instead to force console mode (e.g. in jupyter console)\n",
      "  from tqdm.autonotebook import tqdm, trange\n"
     ]
    },
    {
     "ename": "",
     "evalue": "",
     "output_type": "error",
     "traceback": [
      "\u001b[1;31mThe Kernel crashed while executing code in the current cell or a previous cell. \n",
      "\u001b[1;31mPlease review the code in the cell(s) to identify a possible cause of the failure. \n",
      "\u001b[1;31mClick <a href='https://aka.ms/vscodeJupyterKernelCrash'>here</a> for more info. \n",
      "\u001b[1;31mView Jupyter <a href='command:jupyter.viewOutput'>log</a> for further details."
     ]
    }
   ],
   "source": [
    "\n",
    "\n",
    "\n"
   ]
  },
  {
   "cell_type": "code",
   "execution_count": 3,
   "metadata": {},
   "outputs": [],
   "source": []
  }
 ],
 "metadata": {
  "kernelspec": {
   "display_name": "Python 3",
   "language": "python",
   "name": "python3"
  },
  "language_info": {
   "codemirror_mode": {
    "name": "ipython",
    "version": 3
   },
   "file_extension": ".py",
   "mimetype": "text/x-python",
   "name": "python",
   "nbconvert_exporter": "python",
   "pygments_lexer": "ipython3",
   "version": "3.9.7"
  }
 },
 "nbformat": 4,
 "nbformat_minor": 2
}
